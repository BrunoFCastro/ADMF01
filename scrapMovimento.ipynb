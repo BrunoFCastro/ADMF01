import pandas as p

restaurantes = p.read_json("rest.txt")

restaurantes.head
# with open('dados.txt', 'r') as a:
#     for restaurante in a:
#         print(restaurante)